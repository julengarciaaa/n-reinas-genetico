{
 "cells": [
  {
   "cell_type": "code",
   "execution_count": 38,
   "metadata": {},
   "outputs": [],
   "source": [
    "import numpy as np\n",
    "import matplotlib.pyplot as plt\n",
    "import random\n",
    "from typing import List, Callable, Optional"
   ]
  },
  {
   "cell_type": "markdown",
   "metadata": {},
   "source": [
    "# 🧬 Resolución del problema de las N-reinas mediante Algoritmos Genéticos (AG)\n",
    "\n",
    "Este proyecto aborda la resolución del clásico problema de las N-reinas utilizando Algoritmos Genéticos (AG), una técnica inspirada en los procesos evolutivos de la naturaleza.\n",
    "\n",
    "El objetivo del problema es colocar N reinas en un tablero de ajedrez de NxN de forma que ninguna pueda atacar a otra, es decir, que no compartan fila, columna ni diagonal. Aunque la solución puede encontrarse mediante enfoques clásicos como el backtracking, aquí se propone una alternativa basada en inteligencia artificial evolutiva, capaz de buscar soluciones eficientes incluso para valores grandes de N."
   ]
  },
  {
   "cell_type": "markdown",
   "metadata": {},
   "source": [
    "## 1. Parámetros iniciales:"
   ]
  },
  {
   "cell_type": "markdown",
   "metadata": {},
   "source": [
    "### 1.1. Representación del individuo\n",
    "\n",
    "En este proyecto, cada individuo de la población será representado mediante una **permutación de N números**, donde cada número indica la **fila** en la que se ubica una reina, y su posición en el vector representa la **columna** correspondiente.\n",
    "\n",
    "Por ejemplo, el cromosoma:\n",
    "\n",
    "(1 3 2 4)\n",
    "\n",
    "\n",
    "se interpreta como:\n",
    "- La reina de la **fila 1** está en la **columna 1**,\n",
    "- La reina de la **fila 2** está en la **columna 3**,\n",
    "- La reina de la **fila 3** está en la **columna 2**,\n",
    "- La reina de la **fila 4** está en la **columna 4**.\n",
    "\n",
    "Esta representación garantiza automáticamente que **no haya conflictos en columnas ni filas**, ya que cada número (fila) y cada posición (columna) del vector son únicos.  \n",
    "Por lo tanto, la evaluación se centra exclusivamente en detectar **conflictos en diagonales**, lo que simplifica la función de aptitud."
   ]
  },
  {
   "cell_type": "markdown",
   "metadata": {},
   "source": [
    "### 1.2. Evaluación (función de aptitud / fitness)\n",
    "\n",
    "En el problema de las N-reinas, el objetivo es colocar \\( N \\) reinas en un tablero de \\( N x N \\) de forma que ninguna de las reinas se ataque. Las reinas se atacan si están en la misma fila, columna o diagonal. La función de fitness que se presenta evalúa cuántas parejas de reinas no se atacan entre sí diagonalmente. Cuanto mayor sea el valor de fitness, mejor es la disposición de las reinas en el tablero.\n",
    "\n",
    "La fórmula matemática para la función de fitness es la siguiente:\n",
    "\n",
    "$$\n",
    "\\text{fitness}(\\text{población}) = \\sum_{i=1}^{n} \\sum_{j=i+1}^{n} \\left[ \\left| \\text{individuo}[i] - \\text{individuo}[j] \\right| == \\left| i - j \\right| \\right]\n",
    "$$\n"
   ]
  },
  {
   "cell_type": "markdown",
   "metadata": {},
   "source": [
    "Para facilitar la programación del algoritmo, crearemos una clase para representar el cromosoma junto a la función de fitness:"
   ]
  },
  {
   "cell_type": "code",
   "execution_count": 39,
   "metadata": {},
   "outputs": [],
   "source": [
    "def fitness(cromosoma: List[int]) -> int:\n",
    "    \"\"\"\n",
    "    Calcula el valor de fitness de un cromosoma para el problema de las N-reinas.\n",
    "    \n",
    "    :param cromosoma: Una lista de enteros que representa la disposición de las reinas en el tablero.\n",
    "    :return: Un valor entero que indica el fitness del cromosoma.\n",
    "    \"\"\"\n",
    "    fitness = 0\n",
    "    for i in range(len(cromosoma)):\n",
    "        for j in range(i + 1, len(cromosoma)):\n",
    "            fitness += (np.abs(cromosoma[i] - cromosoma[j]) == np.abs(i - j))\n",
    "                    \n",
    "    return fitness"
   ]
  },
  {
   "cell_type": "code",
   "execution_count": 40,
   "metadata": {},
   "outputs": [],
   "source": [
    "class Individuo:\n",
    "    def __init__(self, \n",
    "                 N_cromosoma: int, \n",
    "                 f_fitness: Callable[[List[int]], int], \n",
    "                 cromosoma: Optional[List[int]] = None) -> None:\n",
    "        \"\"\"\n",
    "        Inicializa un individuo con un cromosoma aleatorio o proporcionado, y calcula su fitness.\n",
    "        \n",
    "        :param N_cromosoma: Número de reinas (tamaño del tablero).\n",
    "        :param f_fitness: Función de fitness que evalúa un cromosoma.\n",
    "        :param cromosoma: Una lista de enteros representando la disposición de las reinas. Si no se proporciona, se genera aleatoriamente.\n",
    "        \"\"\"\n",
    "        self.N_cromosoma = N_cromosoma\n",
    "        if cromosoma is None:\n",
    "            # Genera un cromosoma aleatorio\n",
    "            self.cromosoma = random.sample(range(N_cromosoma), N_cromosoma)\n",
    "        else:\n",
    "            self.cromosoma = cromosoma\n",
    "        self.f_fitness = f_fitness\n",
    "        # Calcula el fitness del individuo\n",
    "        self.fitness = f_fitness(self.cromosoma)\n",
    "\n",
    "    def mostrar_individuo(self) -> None:\n",
    "        \"\"\"\n",
    "        Muestra el cromosoma y el fitness del individuo.\n",
    "        \"\"\"\n",
    "        print(\"Cromosoma:\", self.cromosoma)\n",
    "        print(\"Fitness:\", self.fitness)\n"
   ]
  },
  {
   "cell_type": "markdown",
   "metadata": {},
   "source": [
    "Probamos la clase creada:"
   ]
  },
  {
   "cell_type": "code",
   "execution_count": 41,
   "metadata": {},
   "outputs": [
    {
     "name": "stdout",
     "output_type": "stream",
     "text": [
      "Cromosoma: [3, 2, 1, 0]\n",
      "Fitness: 6\n"
     ]
    }
   ],
   "source": [
    "individuo = Individuo(N_cromosoma=4, f_fitness=fitness)\n",
    "individuo.mostrar_individuo()"
   ]
  },
  {
   "cell_type": "markdown",
   "metadata": {},
   "source": [
    "### 1.3. Representación y generación de la población:\n",
    "\n",
    "En un algoritmo genético, la población representa el conjunto de posibles soluciones al problema que estamos tratando de resolver. Cada individuo dentro de la población es una solución candidata que será evaluada y, en función de su calidad (fitness), podrá reproducirse, mutar o ser reemplazada a lo largo de las generaciones.\n",
    "\n",
    "En este caso, vamos a crear una **clase Población** que se encargará de representar y gestionar la población de individuos. Esta clase incluirá métodos para:\n",
    "\n",
    "1. **Generar la población inicial**: Crearemos una población inicial de individuos de manera aleatoria, basándonos en las reglas del problema (en este caso, el problema de las N-reinas). Cada individuo representará una posible disposición de las reinas en el tablero.\n",
    "   \n",
    "2. **Evaluar la población**: Evaluaremos el fitness de cada individuo en la población utilizando la función de fitness definida anteriormente. Esto nos permitirá medir qué tan \"buena\" es cada solución en términos de su capacidad para resolver el problema de las N-reinas.\n",
    "\n",
    "3. **Gestionar la población**: La clase también se encargará de gestionar la población a lo largo de las generaciones, permitiendo operaciones como la selección de progenitores, la reproducción (cruce) y la mutación.\n",
    "\n",
    "Al crear esta clase, podemos abstraer la complejidad de manejar la población de manera organizada, facilitando la implementación y el mantenimiento del algoritmo genético.\n",
    "\n",
    "### Objetivos:\n",
    "- **Representar la población de individuos** de manera eficiente.\n",
    "- **Gestionar las operaciones** de selección, cruce y mutación en la población a lo largo de las generaciones.\n",
    "- **Evaluar el fitness** de los individuos y seleccionar a los mejores para la reproducción.\n",
    "\n",
    "De esta manera, la clase Población servirá como el núcleo para las interacciones entre los individuos y las generaciones del algoritmo genético.\n"
   ]
  },
  {
   "cell_type": "code",
   "execution_count": 42,
   "metadata": {},
   "outputs": [],
   "source": [
    "class Poblacion:\n",
    "    def __init__(self, \n",
    "                 N_poblacion: int, \n",
    "                 N_cromosoma: int, \n",
    "                 f_fitness: Callable[[List[int]], int], \n",
    "                 individuos: Optional[List[Individuo]] = None) -> None:\n",
    "        \"\"\"\n",
    "        Inicializa una población de individuos para el algoritmo genético.\n",
    "\n",
    "        :param N_poblacion: Número de individuos en la población.\n",
    "        :param N_cromosoma: Número de reinas (dimensión del cromosoma).\n",
    "        :param f_fitness: Función de fitness que evalúa el cromosoma de cada individuo.\n",
    "        :param individuos: Lista opcional de individuos. Si no se proporciona, se generará una población aleatoria.\n",
    "        \"\"\"\n",
    "        self.N_poblacion = N_poblacion\n",
    "        self.N_cromosoma = N_cromosoma\n",
    "        # Inicializamos los individuos\n",
    "        if individuos is None:\n",
    "            self.individuos = [Individuo(N_cromosoma=N_cromosoma, f_fitness=f_fitness) \n",
    "                               for _ in range(N_poblacion)]\n",
    "        else:\n",
    "            self.individuos = individuos\n",
    "\n",
    "        # Calculamos los fitness de la población\n",
    "        self.fitness_poblacion = [individuo.fitness for individuo in self.individuos]\n",
    "        self.fitness_medio = np.mean(self.fitness_poblacion)\n",
    "\n",
    "    def mostrar_poblacion(self) -> None:\n",
    "        \"\"\"\n",
    "        Muestra todos los individuos de la población con su cromosoma y su fitness.\n",
    "        \"\"\"\n",
    "        for idx, individuo in enumerate(self.individuos):\n",
    "            print(f\"Individuo {idx}:\")\n",
    "            individuo.mostrar_individuo()\n",
    "            print()\n"
   ]
  },
  {
   "cell_type": "markdown",
   "metadata": {},
   "source": [
    "Probamos la clase creada:"
   ]
  },
  {
   "cell_type": "code",
   "execution_count": 43,
   "metadata": {},
   "outputs": [
    {
     "name": "stdout",
     "output_type": "stream",
     "text": [
      "Individuo 0:\n",
      "Cromosoma: [3, 2, 1, 0]\n",
      "Fitness: 6\n",
      "\n",
      "Individuo 1:\n",
      "Cromosoma: [2, 1, 3, 0]\n",
      "Fitness: 1\n",
      "\n",
      "Individuo 2:\n",
      "Cromosoma: [2, 0, 1, 3]\n",
      "Fitness: 1\n",
      "\n",
      "Individuo 3:\n",
      "Cromosoma: [0, 1, 3, 2]\n",
      "Fitness: 2\n",
      "\n",
      "Individuo 4:\n",
      "Cromosoma: [1, 3, 0, 2]\n",
      "Fitness: 0\n",
      "\n"
     ]
    }
   ],
   "source": [
    "poblacion = Poblacion(N_poblacion=5, N_cromosoma=4, f_fitness=fitness)\n",
    "poblacion.mostrar_poblacion()"
   ]
  },
  {
   "cell_type": "markdown",
   "metadata": {},
   "source": [
    "### 1.4. Selección de progenitores:\n",
    "\n",
    "En los algoritmos genéticos, la selección de progenitores es un paso clave para generar nuevas soluciones a partir de la población actual. Se busca elegir a los individuos más aptos para reproducirse y generar descendencia, de manera que las mejores soluciones tengan una mayor probabilidad de ser seleccionadas.\n",
    "\n",
    "En este caso, se utilizará el **método de la ruleta**, también conocido como **selección proporcional al ajuste** o **selección basada en fitness**. Este método simula una ruleta en la que cada individuo tiene un espacio proporcional a su valor de fitness. Cuanto menor sea el fitness de un individuo, mayor será su probabilidad de ser seleccionado como progenitor.\n",
    "\n",
    "El proceso funciona de la siguiente manera:\n",
    "1. **Calcular el fitness invertido de los individuos**: max_fitness(poblacion) - fitness(individuo).\n",
    "2. **Asignar una probabilidad de selección**: Cada individuo tiene una probabilidad de ser seleccionado que es proporcional a su fitness invertido. Es decir, los individuos con un fitness menor tienen más probabilidades de ser elegidos.\n",
    "3. **Seleccionar progenitores**: Se realiza una selección aleatoria, donde la probabilidad de selección de cada individuo es proporcional a su fitness invertido. Este proceso se repite hasta que se elijan los progenitores necesarios para la reproducción. Se hace una selección sin reemplazamiento."
   ]
  },
  {
   "cell_type": "code",
   "execution_count": 44,
   "metadata": {},
   "outputs": [],
   "source": [
    "def seleccionar_progenitores(poblacion: 'Poblacion', N_progenitores: int) -> List['Individuo']:\n",
    "    \"\"\"\n",
    "    Selecciona un número de progenitores de la población utilizando el método de la ruleta,\n",
    "    donde los individuos con mejor fitness (fitness más bajo) tienen mayor probabilidad de ser seleccionados.\n",
    "    La selección es sin reemplazo, lo que evita que un individuo sea seleccionado más de una vez.\n",
    "\n",
    "    :param poblacion: La población de individuos de la cual se seleccionan los progenitores.\n",
    "    :param N_progenitores: El número de progenitores que se desean seleccionar.\n",
    "    :return: Una lista de progenitores seleccionados.\n",
    "    \"\"\"\n",
    "    # Calculamos las probabilidades basadas en el fitness invertido (fitness bajo = mejor)\n",
    "    fitness_invertido = 1 / (1 + np.array(poblacion.fitness_poblacion))\n",
    "\n",
    "    # Seleccionamos los progenitores sin reemplazo\n",
    "    progenitores_indices = np.random.choice(len(poblacion.individuos), size=N_progenitores, replace=False, p=fitness_invertido / np.sum(fitness_invertido))\n",
    "    \n",
    "    progenitores = [poblacion.individuos[i] for i in progenitores_indices]\n",
    "\n",
    "    return progenitores"
   ]
  },
  {
   "cell_type": "code",
   "execution_count": 45,
   "metadata": {},
   "outputs": [
    {
     "name": "stdout",
     "output_type": "stream",
     "text": [
      "Progenitor 0:\n",
      "Cromosoma: [2, 1, 3, 0]\n",
      "Fitness: 1\n",
      "\n",
      "Progenitor 1:\n",
      "Cromosoma: [0, 1, 3, 2]\n",
      "Fitness: 2\n",
      "\n"
     ]
    }
   ],
   "source": [
    "progenitores = seleccionar_progenitores(poblacion, 2)\n",
    "for idx, progenitor in enumerate(progenitores):\n",
    "    print(f\"Progenitor {idx}:\")\n",
    "    progenitor.mostrar_individuo()\n",
    "    print()"
   ]
  },
  {
   "cell_type": "markdown",
   "metadata": {},
   "source": [
    "### 1.5. Cruzamiento de los progenitores:\n",
    "\n",
    "Una vez seleccionados los progenitores, se realiza el cruzamiento con el objetivo de combinar la información genética de dos individuos y generar nuevos cromosomas (descendientes) que hereden características de ambos padres.\n",
    "Para este problema, donde los cromosomas representan permutaciones válidas (como en el caso del problema de las N-reinas), utilizamos el Cruzamiento Parcialmente Mapeado (PMX). Este método asegura que los hijos generados también sean permutaciones válidas, evitando duplicados y manteniendo la diversidad genética.\n",
    "El PMX conserva bloques de genes del primer progenitor y completa el resto del cromosoma respetando el orden y la posición relativa de los genes del segundo progenitor, mediante un sistema de correspondencias."
   ]
  },
  {
   "cell_type": "code",
   "execution_count": 46,
   "metadata": {},
   "outputs": [],
   "source": [
    "def cruzar_progenitores(progenitor1: 'Individuo', progenitor2: 'Individuo') -> List[int]:\n",
    "    \"\"\"\n",
    "    Realiza el cruzamiento parcialmente mapeado (PMX) entre dos progenitores.\n",
    "    \n",
    "    :param progenitor1: Primer progenitor (objeto Individuo).\n",
    "    :param progenitor2: Segundo progenitor (objeto Individuo).\n",
    "    :return: Cromosoma resultante del cruzamiento (lista de enteros).\n",
    "    \"\"\"\n",
    "    p1 = progenitor1.cromosoma\n",
    "    p2 = progenitor2.cromosoma\n",
    "    N = len(p1)\n",
    "\n",
    "    # Seleccionamos dos puntos de corte aleatorios\n",
    "    punto1, punto2 = sorted(random.sample(range(N), 2))\n",
    "\n",
    "    hijo = [None] * N\n",
    "\n",
    "    # Copiamos el segmento entre los puntos del primer progenitor\n",
    "    hijo[punto1:punto2] = p1[punto1:punto2]\n",
    "\n",
    "    # Mapeo entre genes del segmento\n",
    "    for i in range(punto1, punto2):\n",
    "        if p2[i] not in hijo:\n",
    "            val = p2[i]\n",
    "            pos = i\n",
    "            while True:\n",
    "                val_mapeado = p1[pos]\n",
    "                if val_mapeado not in hijo:\n",
    "                    pos = p2.index(val_mapeado)\n",
    "                else:\n",
    "                    break\n",
    "            hijo[pos] = val\n",
    "\n",
    "    # Rellenamos el resto con genes del segundo progenitor\n",
    "    for i in range(N):\n",
    "        if hijo[i] is None:\n",
    "            hijo[i] = p2[i]\n",
    "\n",
    "    return Individuo(N_cromosoma=N, \n",
    "                     f_fitness=progenitor1.f_fitness, \n",
    "                     cromosoma=hijo)"
   ]
  },
  {
   "cell_type": "code",
   "execution_count": 47,
   "metadata": {},
   "outputs": [
    {
     "name": "stdout",
     "output_type": "stream",
     "text": [
      "Cromosoma: [0, 1, 3, 2]\n",
      "Fitness: 2\n"
     ]
    }
   ],
   "source": [
    "hijo = cruzar_progenitores(progenitor1=progenitores[0], \n",
    "                           progenitor2=progenitores[1])\n",
    "hijo.mostrar_individuo()"
   ]
  },
  {
   "cell_type": "markdown",
   "metadata": {},
   "source": [
    "### 1.6. Mutación de los descendientes:\n",
    "\n",
    "Después del cruzamiento, se aplica una operación de mutación con el objetivo de introducir variación genética y evitar que la población se estanque en soluciones subóptimas.\n",
    "\n",
    "En este caso, utilizaremos la **Mutación por sacudida**, una técnica adecuada para problemas de permutación como las N-reinas.\n",
    "\n",
    "Esta mutación consiste en seleccionar dos posiciones aleatorias dentro del cromosoma y reordenar aleatoriamente (hacer un *shuffle*) todos los genes comprendidos entre esas dos posiciones.  \n",
    "Este enfoque permite una modificación más significativa del cromosoma, explorando nuevas configuraciones sin violar la restricción de que todos los genes deben ser únicos.\n",
    "\n",
    "Esta estrategia es efectiva para mantener la diversidad y fomentar la exploración del espacio de soluciones.\n"
   ]
  },
  {
   "cell_type": "code",
   "execution_count": 48,
   "metadata": {},
   "outputs": [],
   "source": [
    "def mutar_individuo(individuo: 'Individuo') -> List[int]:\n",
    "    \"\"\"\n",
    "    Aplica la mutación por sacudida a un cromosoma.\n",
    "    Se selecciona un segmento aleatorio dentro del cromosoma\n",
    "    y se reordenan aleatoriamente los genes dentro de ese segmento.\n",
    "\n",
    "    :param cromosoma: Cromosoma original (permutación de enteros).\n",
    "    :return: Cromosoma mutado.\n",
    "    \"\"\"\n",
    "    cromosoma = individuo.cromosoma\n",
    "    mutado = cromosoma.copy()\n",
    "    N_cromosoma = len(cromosoma)\n",
    "\n",
    "    # Seleccionar dos índices aleatorios distintos\n",
    "    i, j = sorted(random.sample(range(N_cromosoma), 2))\n",
    "\n",
    "    # Mezclar aleatoriamente los elementos entre i y j (inclusive)\n",
    "    segmento = mutado[i:j+1]\n",
    "    random.shuffle(segmento)\n",
    "    mutado[i:j+1] = segmento\n",
    "\n",
    "    return Individuo(N_cromosoma=N_cromosoma, \n",
    "                     f_fitness=individuo.f_fitness, \n",
    "                     cromosoma=mutado)"
   ]
  },
  {
   "cell_type": "code",
   "execution_count": 49,
   "metadata": {},
   "outputs": [
    {
     "name": "stdout",
     "output_type": "stream",
     "text": [
      "Individuo sin mutar: \n",
      "Cromosoma: [3, 2, 1, 0]\n",
      "Fitness: 6\n",
      "\n",
      "Individuo mutado: \n",
      "Cromosoma: [3, 2, 0, 1]\n",
      "Fitness: 2\n"
     ]
    }
   ],
   "source": [
    "mutado = mutar_individuo(individuo)\n",
    "print(\"Individuo sin mutar: \")\n",
    "individuo.mostrar_individuo()\n",
    "print()\n",
    "print(\"Individuo mutado: \")\n",
    "mutado.mostrar_individuo()"
   ]
  },
  {
   "cell_type": "markdown",
   "metadata": {},
   "source": [
    "### 1.7. Selección de Supervivientes:\n",
    "\n",
    "Una vez que se han generado los descendientes a través del cruzamiento y la mutación, se procede a la **selección de supervivientes** para conformar la siguiente generación.\n",
    "\n",
    "En esta etapa, se combinan los individuos de la generación actual con los nuevos descendientes, y se seleccionan los **mejores N individuos** en función de su valor de fitness.\n",
    "\n",
    "Dado que el objetivo del problema de las N-reinas es minimizar el número de conflictos (es decir, minimizar el valor del fitness), se eligen los **N individuos con menor fitness** para asegurar que la población evolucione hacia soluciones más óptimas en cada generación."
   ]
  },
  {
   "cell_type": "code",
   "execution_count": 50,
   "metadata": {},
   "outputs": [],
   "source": [
    "def seleccionar_supervivientes(poblacion: Poblacion, descendientes: List[Individuo]) -> Poblacion:\n",
    "    \"\"\"\n",
    "    Selecciona a los mejores individuos de la población actual y los descendientes.\n",
    "    Elimina a los peores individuos y mantiene los mejores N de acuerdo al fitness.\n",
    "\n",
    "    :param poblacion: Objeto de la clase Poblacion que representa la población actual.\n",
    "    :param descendientes: Lista de individuos generados en la última generación (descendientes).\n",
    "    :return: Nueva población formada por los mejores individuos (supervivientes).\n",
    "    \"\"\"\n",
    "    # Agregamos los descendientes a la población actual\n",
    "    individuos = poblacion.individuos + descendientes\n",
    "    \n",
    "    # Obtenemos la información básica de la población\n",
    "    N_cromosoma = individuos[0].N_cromosoma  # Número de genes en cada cromosoma\n",
    "    N_poblacion = poblacion.N_poblacion  # Tamaño original de la población\n",
    "    f_fitness = individuos[0].f_fitness  # Función de fitness utilizada\n",
    "    N_poblacion_nueva = len(individuos)  # Nueva población que incluye descendientes\n",
    "    \n",
    "    # Creamos una nueva población con los individuos actuales + descendientes\n",
    "    poblacion_nueva = Poblacion(\n",
    "        N_poblacion=N_poblacion_nueva,\n",
    "        N_cromosoma=N_cromosoma,\n",
    "        f_fitness=f_fitness,\n",
    "        individuos=individuos\n",
    "    )\n",
    "    \n",
    "    # Obtenemos los fitness de todos los individuos\n",
    "    fitness_poblacion = poblacion_nueva.fitness_poblacion\n",
    "    \n",
    "    # Ordenamos los índices de los individuos de la población según el fitness (menor a mayor)\n",
    "    best_fit_idx = np.argsort(fitness_poblacion)\n",
    "    \n",
    "    # Imprimimos los fitness ordenados para referencia\n",
    "    print(\"Fitness ordenados:\", np.sort(fitness_poblacion))\n",
    "    \n",
    "    # Seleccionamos los mejores N individuos con menor fitness\n",
    "    individuos_supervivientes = [individuos[i] for i in best_fit_idx[:N_poblacion]]\n",
    "    \n",
    "    # Creamos una nueva población con los mejores N individuos\n",
    "    poblacion_superviviente = Poblacion(\n",
    "        N_poblacion=N_poblacion,\n",
    "        N_cromosoma=N_cromosoma,\n",
    "        f_fitness=f_fitness,\n",
    "        individuos=individuos_supervivientes\n",
    "    )\n",
    "    \n",
    "    return poblacion_superviviente"
   ]
  },
  {
   "cell_type": "markdown",
   "metadata": {},
   "source": [
    "Probamos la función creada:"
   ]
  },
  {
   "cell_type": "code",
   "execution_count": 51,
   "metadata": {},
   "outputs": [
    {
     "name": "stdout",
     "output_type": "stream",
     "text": [
      "Fitness ordenados: [1 1 1 2 2 2 4 6]\n",
      "Individuo 0:\n",
      "Cromosoma: [3, 0, 2, 1]\n",
      "Fitness: 1\n",
      "\n",
      "Individuo 1:\n",
      "Cromosoma: [3, 0, 2, 1]\n",
      "Fitness: 1\n",
      "\n",
      "Individuo 2:\n",
      "Cromosoma: [3, 0, 2, 1]\n",
      "Fitness: 1\n",
      "\n",
      "Individuo 3:\n",
      "Cromosoma: [0, 2, 1, 3]\n",
      "Fitness: 2\n",
      "\n",
      "Individuo 4:\n",
      "Cromosoma: [0, 2, 1, 3]\n",
      "Fitness: 2\n",
      "\n"
     ]
    }
   ],
   "source": [
    "# Inicializamos la población con 5 individuos, cada uno con un cromosoma de longitud 4.\n",
    "poblacion = Poblacion(N_poblacion=5, \n",
    "                      N_cromosoma=4, \n",
    "                      f_fitness=fitness)\n",
    "\n",
    "# Seleccionamos 2 progenitores basados en su fitness.\n",
    "progenitores = seleccionar_progenitores(poblacion=poblacion, N_progenitores=2)\n",
    "\n",
    "# Cruzamos los progenitores para crear los hijos.\n",
    "hijo1 = cruzar_progenitores(progenitor1=progenitores[0],\n",
    "                             progenitor2=progenitores[1])\n",
    "hijo2 = cruzar_progenitores(progenitor1=progenitores[1],\n",
    "                             progenitor2=progenitores[0])\n",
    "\n",
    "# Mutamos el primer hijo intercambiando aleatoriamente dos posiciones en su cromosoma.\n",
    "mutado = mutar_individuo(individuo=hijo1)\n",
    "\n",
    "# Seleccionamos los mejores individuos para la siguiente generación.\n",
    "poblacion_superviviente = seleccionar_supervivientes(poblacion, [mutado, hijo1, hijo2])\n",
    "\n",
    "# Mostramos la nueva población de supervivientes.\n",
    "poblacion_superviviente.mostrar_poblacion()\n"
   ]
  }
 ],
 "metadata": {
  "kernelspec": {
   "display_name": "py311ml",
   "language": "python",
   "name": "python3"
  },
  "language_info": {
   "codemirror_mode": {
    "name": "ipython",
    "version": 3
   },
   "file_extension": ".py",
   "mimetype": "text/x-python",
   "name": "python",
   "nbconvert_exporter": "python",
   "pygments_lexer": "ipython3",
   "version": "3.11.8"
  }
 },
 "nbformat": 4,
 "nbformat_minor": 2
}
